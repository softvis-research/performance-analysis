{
 "cells": [
  {
   "cell_type": "markdown",
   "metadata": {},
   "source": [
    "# Software Analyse - Performace\n",
    "\n",
    "* Question\n",
    "    * Welche Teile des Anwendungscodes benötigen sehr lange bei deren Ausführung (Bottlenecks)?\n",
    "    * Inwieweit können mögliche Ursachen durch statische Metriken (u.a. Größe, Komplexität, Abhängigkeiten) identifiziert werden?\n",
    "\n",
    "* Data Sources\n",
    "    * Java Projekt 'Argouml' wird von jQAssistant gescannt und in Neo4j dargestellt\n",
    "    * Kieker angewendet um log Daten zur Zeit zu bekommen.\n",
    "* Heuristics\n",
    "    * Zeitdaten sind unter Kieker zufinden\n",
    "    * Die Main klasse könnte die längste sein?\n",
    "   \n",
    "* Validation\n",
    "    * Übersicht der Typen und derer Zeit sowie die Methoden und deren Zeit\n",
    "    * Vergleich mit anderen Metriken und auf zusammenhänge zu untersuchen\n",
    "* Implementation\n",
    "    * Identifikation der Nodes, die Attribute zu duration haben\n",
    "* Results\n",
    "    * Here you can list the key point that you have found out with your analysis. What were the actionable insights you got? If there were none, document them anyway. Or did the analysis not work as expected? Are the results standing on a too shaky a floor? Never mind! You got more experience in data analysis in the software area. Next time you can do it differently!\n"
   ]
  },
  {
   "cell_type": "code",
   "execution_count": 1,
   "metadata": {},
   "outputs": [],
   "source": [
    "import py2neo\n",
    "\n",
    "graph = py2neo.Graph(host='localhost', user='', password='')"
   ]
  },
  {
   "cell_type": "code",
   "execution_count": 2,
   "metadata": {},
   "outputs": [],
   "source": [
    "import pandas as pd\n",
    "\n",
    "#query =\"MATCH (t:Type:File) RETURN count(t)\"\n",
    "query =\"MATCH (c1:Class)-[:EXTENDS]->(c2:Type) RETURN c1.fqn, c2.fqn LIMIT 20\"\n",
    "#query = \"MATCH (t:Type)-[:DECLARES]->(m:Method) WHERE t.fqn STARTS WITH 'kieker' RETURN t.name as Type RETURN t.name as Type, m.name AS Method, m.incomingCalls AS Calls, m.duration AS Duration\"\n",
    "df = pd.DataFrame(graph.run(query).data())"
   ]
  },
  {
   "cell_type": "code",
   "execution_count": 3,
   "metadata": {},
   "outputs": [
    {
     "data": {
      "text/html": [
       "<div>\n",
       "<style scoped>\n",
       "    .dataframe tbody tr th:only-of-type {\n",
       "        vertical-align: middle;\n",
       "    }\n",
       "\n",
       "    .dataframe tbody tr th {\n",
       "        vertical-align: top;\n",
       "    }\n",
       "\n",
       "    .dataframe thead th {\n",
       "        text-align: right;\n",
       "    }\n",
       "</style>\n",
       "<table border=\"1\" class=\"dataframe\">\n",
       "  <thead>\n",
       "    <tr style=\"text-align: right;\">\n",
       "      <th></th>\n",
       "      <th>c1.fqn</th>\n",
       "      <th>c2.fqn</th>\n",
       "    </tr>\n",
       "  </thead>\n",
       "  <tbody>\n",
       "    <tr>\n",
       "      <td>0</td>\n",
       "      <td>net.sf.saxon.sql.SQLClose$CloseInstruction</td>\n",
       "      <td>net.sf.saxon.expr.SimpleExpression</td>\n",
       "    </tr>\n",
       "    <tr>\n",
       "      <td>1</td>\n",
       "      <td>net.sf.saxon.sql.SQLClose</td>\n",
       "      <td>net.sf.saxon.style.ExtensionInstruction</td>\n",
       "    </tr>\n",
       "    <tr>\n",
       "      <td>2</td>\n",
       "      <td>net.sf.saxon.sql.SQLColumn</td>\n",
       "      <td>net.sf.saxon.style.StyleElement</td>\n",
       "    </tr>\n",
       "    <tr>\n",
       "      <td>3</td>\n",
       "      <td>net.sf.saxon.sql.SQLConnect</td>\n",
       "      <td>net.sf.saxon.style.ExtensionInstruction</td>\n",
       "    </tr>\n",
       "    <tr>\n",
       "      <td>4</td>\n",
       "      <td>net.sf.saxon.sql.SQLConnect$ConnectInstruction</td>\n",
       "      <td>net.sf.saxon.expr.SimpleExpression</td>\n",
       "    </tr>\n",
       "  </tbody>\n",
       "</table>\n",
       "</div>"
      ],
      "text/plain": [
       "                                           c1.fqn  \\\n",
       "0      net.sf.saxon.sql.SQLClose$CloseInstruction   \n",
       "1                       net.sf.saxon.sql.SQLClose   \n",
       "2                      net.sf.saxon.sql.SQLColumn   \n",
       "3                     net.sf.saxon.sql.SQLConnect   \n",
       "4  net.sf.saxon.sql.SQLConnect$ConnectInstruction   \n",
       "\n",
       "                                    c2.fqn  \n",
       "0       net.sf.saxon.expr.SimpleExpression  \n",
       "1  net.sf.saxon.style.ExtensionInstruction  \n",
       "2          net.sf.saxon.style.StyleElement  \n",
       "3  net.sf.saxon.style.ExtensionInstruction  \n",
       "4       net.sf.saxon.expr.SimpleExpression  "
      ]
     },
     "execution_count": 3,
     "metadata": {},
     "output_type": "execute_result"
    }
   ],
   "source": [
    "df.head()"
   ]
  },
  {
   "cell_type": "code",
   "execution_count": 4,
   "metadata": {},
   "outputs": [],
   "source": [
    "query=\"MATCH (t:Type)-[:DECLARES]->(m:Method) WHERE m.duration IS NOT null RETURN DISTINCT t.name as Type, m.name AS Method,m.effectiveLineCount as loc, m.duration AS Duration ORDER BY loc DESC\"\n",
    "df = pd.DataFrame(graph.run(query).data())\n",
    "df = df.groupby([\"Type\"]).Duration.sum().astype(int).reset_index()\n",
    "\n",
    "#print(df)"
   ]
  },
  {
   "cell_type": "code",
   "execution_count": 5,
   "metadata": {
    "scrolled": true
   },
   "outputs": [
    {
     "data": {
      "text/html": [
       "<div>\n",
       "<style scoped>\n",
       "    .dataframe tbody tr th:only-of-type {\n",
       "        vertical-align: middle;\n",
       "    }\n",
       "\n",
       "    .dataframe tbody tr th {\n",
       "        vertical-align: top;\n",
       "    }\n",
       "\n",
       "    .dataframe thead th {\n",
       "        text-align: right;\n",
       "    }\n",
       "</style>\n",
       "<table border=\"1\" class=\"dataframe\">\n",
       "  <thead>\n",
       "    <tr style=\"text-align: right;\">\n",
       "      <th></th>\n",
       "      <th>Type</th>\n",
       "      <th>Duration</th>\n",
       "    </tr>\n",
       "  </thead>\n",
       "  <tbody>\n",
       "    <tr>\n",
       "      <td>0</td>\n",
       "      <td>AbstractFilePersister</td>\n",
       "      <td>465133</td>\n",
       "    </tr>\n",
       "    <tr>\n",
       "      <td>1</td>\n",
       "      <td>ActionActivityDiagram</td>\n",
       "      <td>952283049</td>\n",
       "    </tr>\n",
       "    <tr>\n",
       "      <td>2</td>\n",
       "      <td>ActionAddAssociationRole</td>\n",
       "      <td>3321112</td>\n",
       "    </tr>\n",
       "    <tr>\n",
       "      <td>3</td>\n",
       "      <td>ActionAddAttribute</td>\n",
       "      <td>20721974</td>\n",
       "    </tr>\n",
       "    <tr>\n",
       "      <td>4</td>\n",
       "      <td>ActionAddAttribute$1</td>\n",
       "      <td>13442817</td>\n",
       "    </tr>\n",
       "  </tbody>\n",
       "</table>\n",
       "</div>"
      ],
      "text/plain": [
       "                       Type   Duration\n",
       "0     AbstractFilePersister     465133\n",
       "1     ActionActivityDiagram  952283049\n",
       "2  ActionAddAssociationRole    3321112\n",
       "3        ActionAddAttribute   20721974\n",
       "4      ActionAddAttribute$1   13442817"
      ]
     },
     "execution_count": 5,
     "metadata": {},
     "output_type": "execute_result"
    }
   ],
   "source": [
    "df.head()"
   ]
  },
  {
   "cell_type": "code",
   "execution_count": 6,
   "metadata": {},
   "outputs": [
    {
     "data": {
      "text/html": [
       "<div>\n",
       "<style scoped>\n",
       "    .dataframe tbody tr th:only-of-type {\n",
       "        vertical-align: middle;\n",
       "    }\n",
       "\n",
       "    .dataframe tbody tr th {\n",
       "        vertical-align: top;\n",
       "    }\n",
       "\n",
       "    .dataframe thead th {\n",
       "        text-align: right;\n",
       "    }\n",
       "</style>\n",
       "<table border=\"1\" class=\"dataframe\">\n",
       "  <thead>\n",
       "    <tr style=\"text-align: right;\">\n",
       "      <th></th>\n",
       "      <th>Type</th>\n",
       "      <th>Duration</th>\n",
       "    </tr>\n",
       "  </thead>\n",
       "  <tbody>\n",
       "    <tr>\n",
       "      <td>412</td>\n",
       "      <td>ModuleLoader2</td>\n",
       "      <td>520923590514</td>\n",
       "    </tr>\n",
       "    <tr>\n",
       "      <td>395</td>\n",
       "      <td>Main</td>\n",
       "      <td>256564830009</td>\n",
       "    </tr>\n",
       "    <tr>\n",
       "      <td>541</td>\n",
       "      <td>SubsystemUtility</td>\n",
       "      <td>73288204051</td>\n",
       "    </tr>\n",
       "    <tr>\n",
       "      <td>366</td>\n",
       "      <td>InitModuleLoader</td>\n",
       "      <td>66772638908</td>\n",
       "    </tr>\n",
       "    <tr>\n",
       "      <td>405</td>\n",
       "      <td>Model</td>\n",
       "      <td>17878163117</td>\n",
       "    </tr>\n",
       "    <tr>\n",
       "      <td>394</td>\n",
       "      <td>MDRModelImplementation</td>\n",
       "      <td>15967665111</td>\n",
       "    </tr>\n",
       "    <tr>\n",
       "      <td>477</td>\n",
       "      <td>ProjectManager</td>\n",
       "      <td>13038439218</td>\n",
       "    </tr>\n",
       "    <tr>\n",
       "      <td>225</td>\n",
       "      <td>DiagramFactory</td>\n",
       "      <td>12285781592</td>\n",
       "    </tr>\n",
       "    <tr>\n",
       "      <td>558</td>\n",
       "      <td>TargetManager</td>\n",
       "      <td>12090262511</td>\n",
       "    </tr>\n",
       "    <tr>\n",
       "      <td>471</td>\n",
       "      <td>ProjectBrowser</td>\n",
       "      <td>10678935696</td>\n",
       "    </tr>\n",
       "  </tbody>\n",
       "</table>\n",
       "</div>"
      ],
      "text/plain": [
       "                       Type      Duration\n",
       "412           ModuleLoader2  520923590514\n",
       "395                    Main  256564830009\n",
       "541        SubsystemUtility   73288204051\n",
       "366        InitModuleLoader   66772638908\n",
       "405                   Model   17878163117\n",
       "394  MDRModelImplementation   15967665111\n",
       "477          ProjectManager   13038439218\n",
       "225          DiagramFactory   12285781592\n",
       "558           TargetManager   12090262511\n",
       "471          ProjectBrowser   10678935696"
      ]
     },
     "execution_count": 6,
     "metadata": {},
     "output_type": "execute_result"
    }
   ],
   "source": [
    "# Sortiere das Dataframe nach der Anzahl der Quelltextzeilen (loc).\n",
    "df = df.sort_values('Duration',ascending=False)\n",
    "# Extrahiere die Spalten loc, signature und type und speichere sie im Dataframe loc_df.\n",
    "loc_df = df[['Type','Duration']][0:10]\n",
    "loc_df.head(10)"
   ]
  },
  {
   "cell_type": "code",
   "execution_count": 7,
   "metadata": {},
   "outputs": [],
   "source": [
    "from IPython.display import display, HTML\n",
    "\n",
    "base_html = \"\"\"\n",
    "<!DOCTYPE html>\n",
    "<html>\n",
    "  <head>\n",
    "  <script type=\"text/javascript\" src=\"http://kozea.github.com/pygal.js/javascripts/svg.jquery.js\"></script>\n",
    "  <script type=\"text/javascript\" src=\"https://kozea.github.io/pygal.js/2.0.x/pygal-tooltips.min.js\"\"></script>\n",
    "  </head>\n",
    "  <body>\n",
    "    <figure>\n",
    "      {rendered_chart}\n",
    "    </figure>\n",
    "  </body>\n",
    "</html>\n",
    "\"\"\"\n"
   ]
  },
  {
   "cell_type": "code",
   "execution_count": 8,
   "metadata": {},
   "outputs": [
    {
     "data": {
      "text/html": [
       "\n",
       "<!DOCTYPE html>\n",
       "<html>\n",
       "  <head>\n",
       "  <script type=\"text/javascript\" src=\"http://kozea.github.com/pygal.js/javascripts/svg.jquery.js\"></script>\n",
       "  <script type=\"text/javascript\" src=\"https://kozea.github.io/pygal.js/2.0.x/pygal-tooltips.min.js\"\"></script>\n",
       "  </head>\n",
       "  <body>\n",
       "    <figure>\n",
       "      <?xml version='1.0' encoding='utf-8'?>\n",
       "<svg xmlns=\"http://www.w3.org/2000/svg\" xmlns:xlink=\"http://www.w3.org/1999/xlink\" id=\"chart-ae967b59-71e3-4c2d-88c2-78c5240d8998\" class=\"pygal-chart\" viewBox=\"0 0 800 600\"><!--Generated with pygal 2.4.0 (lxml) ©Kozea 2012-2016 on 2021-08-25--><!--http://pygal.org--><!--http://github.com/Kozea/pygal--><defs><style type=\"text/css\">#chart-ae967b59-71e3-4c2d-88c2-78c5240d8998{-webkit-user-select:none;-webkit-font-smoothing:antialiased;font-family:Consolas,\"Liberation Mono\",Menlo,Courier,monospace}#chart-ae967b59-71e3-4c2d-88c2-78c5240d8998 .title{font-family:Consolas,\"Liberation Mono\",Menlo,Courier,monospace;font-size:16px}#chart-ae967b59-71e3-4c2d-88c2-78c5240d8998 .legends .legend text{font-family:Consolas,\"Liberation Mono\",Menlo,Courier,monospace;font-size:14px}#chart-ae967b59-71e3-4c2d-88c2-78c5240d8998 .axis text{font-family:Consolas,\"Liberation Mono\",Menlo,Courier,monospace;font-size:10px}#chart-ae967b59-71e3-4c2d-88c2-78c5240d8998 .axis text.major{font-family:Consolas,\"Liberation Mono\",Menlo,Courier,monospace;font-size:10px}#chart-ae967b59-71e3-4c2d-88c2-78c5240d8998 .text-overlay text.value{font-family:Consolas,\"Liberation Mono\",Menlo,Courier,monospace;font-size:16px}#chart-ae967b59-71e3-4c2d-88c2-78c5240d8998 .text-overlay text.label{font-family:Consolas,\"Liberation Mono\",Menlo,Courier,monospace;font-size:10px}#chart-ae967b59-71e3-4c2d-88c2-78c5240d8998 .tooltip{font-family:Consolas,\"Liberation Mono\",Menlo,Courier,monospace;font-size:14px}#chart-ae967b59-71e3-4c2d-88c2-78c5240d8998 text.no_data{font-family:Consolas,\"Liberation Mono\",Menlo,Courier,monospace;font-size:64px}\n",
       "#chart-ae967b59-71e3-4c2d-88c2-78c5240d8998{background-color:rgba(249,249,249,1)}#chart-ae967b59-71e3-4c2d-88c2-78c5240d8998 path,#chart-ae967b59-71e3-4c2d-88c2-78c5240d8998 line,#chart-ae967b59-71e3-4c2d-88c2-78c5240d8998 rect,#chart-ae967b59-71e3-4c2d-88c2-78c5240d8998 circle{-webkit-transition:150ms;-moz-transition:150ms;transition:150ms}#chart-ae967b59-71e3-4c2d-88c2-78c5240d8998 .graph &gt; .background{fill:rgba(249,249,249,1)}#chart-ae967b59-71e3-4c2d-88c2-78c5240d8998 .plot &gt; .background{fill:rgba(255,255,255,1)}#chart-ae967b59-71e3-4c2d-88c2-78c5240d8998 .graph{fill:rgba(0,0,0,.87)}#chart-ae967b59-71e3-4c2d-88c2-78c5240d8998 text.no_data{fill:rgba(0,0,0,1)}#chart-ae967b59-71e3-4c2d-88c2-78c5240d8998 .title{fill:rgba(0,0,0,1)}#chart-ae967b59-71e3-4c2d-88c2-78c5240d8998 .legends .legend text{fill:rgba(0,0,0,.87)}#chart-ae967b59-71e3-4c2d-88c2-78c5240d8998 .legends .legend:hover text{fill:rgba(0,0,0,1)}#chart-ae967b59-71e3-4c2d-88c2-78c5240d8998 .axis .line{stroke:rgba(0,0,0,1)}#chart-ae967b59-71e3-4c2d-88c2-78c5240d8998 .axis .guide.line{stroke:rgba(0,0,0,.54)}#chart-ae967b59-71e3-4c2d-88c2-78c5240d8998 .axis .major.line{stroke:rgba(0,0,0,.87)}#chart-ae967b59-71e3-4c2d-88c2-78c5240d8998 .axis text.major{fill:rgba(0,0,0,1)}#chart-ae967b59-71e3-4c2d-88c2-78c5240d8998 .axis.y .guides:hover .guide.line,#chart-ae967b59-71e3-4c2d-88c2-78c5240d8998 .line-graph .axis.x .guides:hover .guide.line,#chart-ae967b59-71e3-4c2d-88c2-78c5240d8998 .stackedline-graph .axis.x .guides:hover .guide.line,#chart-ae967b59-71e3-4c2d-88c2-78c5240d8998 .xy-graph .axis.x .guides:hover .guide.line{stroke:rgba(0,0,0,1)}#chart-ae967b59-71e3-4c2d-88c2-78c5240d8998 .axis .guides:hover text{fill:rgba(0,0,0,1)}#chart-ae967b59-71e3-4c2d-88c2-78c5240d8998 .reactive{fill-opacity:.7;stroke-opacity:.8}#chart-ae967b59-71e3-4c2d-88c2-78c5240d8998 .ci{stroke:rgba(0,0,0,.87)}#chart-ae967b59-71e3-4c2d-88c2-78c5240d8998 .reactive.active,#chart-ae967b59-71e3-4c2d-88c2-78c5240d8998 .active .reactive{fill-opacity:.8;stroke-opacity:.9;stroke-width:4}#chart-ae967b59-71e3-4c2d-88c2-78c5240d8998 .ci .reactive.active{stroke-width:1.5}#chart-ae967b59-71e3-4c2d-88c2-78c5240d8998 .series text{fill:rgba(0,0,0,1)}#chart-ae967b59-71e3-4c2d-88c2-78c5240d8998 .tooltip rect{fill:rgba(255,255,255,1);stroke:rgba(0,0,0,1);-webkit-transition:opacity 150ms;-moz-transition:opacity 150ms;transition:opacity 150ms}#chart-ae967b59-71e3-4c2d-88c2-78c5240d8998 .tooltip .label{fill:rgba(0,0,0,.87)}#chart-ae967b59-71e3-4c2d-88c2-78c5240d8998 .tooltip .label{fill:rgba(0,0,0,.87)}#chart-ae967b59-71e3-4c2d-88c2-78c5240d8998 .tooltip .legend{font-size:.8em;fill:rgba(0,0,0,.54)}#chart-ae967b59-71e3-4c2d-88c2-78c5240d8998 .tooltip .x_label{font-size:.6em;fill:rgba(0,0,0,1)}#chart-ae967b59-71e3-4c2d-88c2-78c5240d8998 .tooltip .xlink{font-size:.5em;text-decoration:underline}#chart-ae967b59-71e3-4c2d-88c2-78c5240d8998 .tooltip .value{font-size:1.5em}#chart-ae967b59-71e3-4c2d-88c2-78c5240d8998 .bound{font-size:.5em}#chart-ae967b59-71e3-4c2d-88c2-78c5240d8998 .max-value{font-size:.75em;fill:rgba(0,0,0,.54)}#chart-ae967b59-71e3-4c2d-88c2-78c5240d8998 .map-element{fill:rgba(255,255,255,1);stroke:rgba(0,0,0,.54) !important}#chart-ae967b59-71e3-4c2d-88c2-78c5240d8998 .map-element .reactive{fill-opacity:inherit;stroke-opacity:inherit}#chart-ae967b59-71e3-4c2d-88c2-78c5240d8998 .color-0,#chart-ae967b59-71e3-4c2d-88c2-78c5240d8998 .color-0 a:visited{stroke:#F44336;fill:#F44336}#chart-ae967b59-71e3-4c2d-88c2-78c5240d8998 .color-1,#chart-ae967b59-71e3-4c2d-88c2-78c5240d8998 .color-1 a:visited{stroke:#3F51B5;fill:#3F51B5}#chart-ae967b59-71e3-4c2d-88c2-78c5240d8998 .color-2,#chart-ae967b59-71e3-4c2d-88c2-78c5240d8998 .color-2 a:visited{stroke:#009688;fill:#009688}#chart-ae967b59-71e3-4c2d-88c2-78c5240d8998 .color-3,#chart-ae967b59-71e3-4c2d-88c2-78c5240d8998 .color-3 a:visited{stroke:#FFC107;fill:#FFC107}#chart-ae967b59-71e3-4c2d-88c2-78c5240d8998 .color-4,#chart-ae967b59-71e3-4c2d-88c2-78c5240d8998 .color-4 a:visited{stroke:#FF5722;fill:#FF5722}#chart-ae967b59-71e3-4c2d-88c2-78c5240d8998 .color-5,#chart-ae967b59-71e3-4c2d-88c2-78c5240d8998 .color-5 a:visited{stroke:#9C27B0;fill:#9C27B0}#chart-ae967b59-71e3-4c2d-88c2-78c5240d8998 .color-6,#chart-ae967b59-71e3-4c2d-88c2-78c5240d8998 .color-6 a:visited{stroke:#03A9F4;fill:#03A9F4}#chart-ae967b59-71e3-4c2d-88c2-78c5240d8998 .color-7,#chart-ae967b59-71e3-4c2d-88c2-78c5240d8998 .color-7 a:visited{stroke:#8BC34A;fill:#8BC34A}#chart-ae967b59-71e3-4c2d-88c2-78c5240d8998 .color-8,#chart-ae967b59-71e3-4c2d-88c2-78c5240d8998 .color-8 a:visited{stroke:#FF9800;fill:#FF9800}#chart-ae967b59-71e3-4c2d-88c2-78c5240d8998 .color-9,#chart-ae967b59-71e3-4c2d-88c2-78c5240d8998 .color-9 a:visited{stroke:#E91E63;fill:#E91E63}#chart-ae967b59-71e3-4c2d-88c2-78c5240d8998 .text-overlay .color-0 text{fill:black}#chart-ae967b59-71e3-4c2d-88c2-78c5240d8998 .text-overlay .color-1 text{fill:black}#chart-ae967b59-71e3-4c2d-88c2-78c5240d8998 .text-overlay .color-2 text{fill:black}#chart-ae967b59-71e3-4c2d-88c2-78c5240d8998 .text-overlay .color-3 text{fill:black}#chart-ae967b59-71e3-4c2d-88c2-78c5240d8998 .text-overlay .color-4 text{fill:black}#chart-ae967b59-71e3-4c2d-88c2-78c5240d8998 .text-overlay .color-5 text{fill:black}#chart-ae967b59-71e3-4c2d-88c2-78c5240d8998 .text-overlay .color-6 text{fill:black}#chart-ae967b59-71e3-4c2d-88c2-78c5240d8998 .text-overlay .color-7 text{fill:black}#chart-ae967b59-71e3-4c2d-88c2-78c5240d8998 .text-overlay .color-8 text{fill:black}#chart-ae967b59-71e3-4c2d-88c2-78c5240d8998 .text-overlay .color-9 text{fill:black}\n",
       "#chart-ae967b59-71e3-4c2d-88c2-78c5240d8998 text.no_data{text-anchor:middle}#chart-ae967b59-71e3-4c2d-88c2-78c5240d8998 .guide.line{fill:none}#chart-ae967b59-71e3-4c2d-88c2-78c5240d8998 .centered{text-anchor:middle}#chart-ae967b59-71e3-4c2d-88c2-78c5240d8998 .title{text-anchor:middle}#chart-ae967b59-71e3-4c2d-88c2-78c5240d8998 .legends .legend text{fill-opacity:1}#chart-ae967b59-71e3-4c2d-88c2-78c5240d8998 .axis.x text{text-anchor:middle}#chart-ae967b59-71e3-4c2d-88c2-78c5240d8998 .axis.x:not(.web) text[transform]{text-anchor:start}#chart-ae967b59-71e3-4c2d-88c2-78c5240d8998 .axis.x:not(.web) text[transform].backwards{text-anchor:end}#chart-ae967b59-71e3-4c2d-88c2-78c5240d8998 .axis.y text{text-anchor:end}#chart-ae967b59-71e3-4c2d-88c2-78c5240d8998 .axis.y text[transform].backwards{text-anchor:start}#chart-ae967b59-71e3-4c2d-88c2-78c5240d8998 .axis.y2 text{text-anchor:start}#chart-ae967b59-71e3-4c2d-88c2-78c5240d8998 .axis.y2 text[transform].backwards{text-anchor:end}#chart-ae967b59-71e3-4c2d-88c2-78c5240d8998 .axis .guide.line{stroke-dasharray:4,4}#chart-ae967b59-71e3-4c2d-88c2-78c5240d8998 .axis .major.guide.line{stroke-dasharray:6,6}#chart-ae967b59-71e3-4c2d-88c2-78c5240d8998 .horizontal .axis.y .guide.line,#chart-ae967b59-71e3-4c2d-88c2-78c5240d8998 .horizontal .axis.y2 .guide.line,#chart-ae967b59-71e3-4c2d-88c2-78c5240d8998 .vertical .axis.x .guide.line{opacity:0}#chart-ae967b59-71e3-4c2d-88c2-78c5240d8998 .horizontal .axis.always_show .guide.line,#chart-ae967b59-71e3-4c2d-88c2-78c5240d8998 .vertical .axis.always_show .guide.line{opacity:1 !important}#chart-ae967b59-71e3-4c2d-88c2-78c5240d8998 .axis.y .guides:hover .guide.line,#chart-ae967b59-71e3-4c2d-88c2-78c5240d8998 .axis.y2 .guides:hover .guide.line,#chart-ae967b59-71e3-4c2d-88c2-78c5240d8998 .axis.x .guides:hover .guide.line{opacity:1}#chart-ae967b59-71e3-4c2d-88c2-78c5240d8998 .axis .guides:hover text{opacity:1}#chart-ae967b59-71e3-4c2d-88c2-78c5240d8998 .nofill{fill:none}#chart-ae967b59-71e3-4c2d-88c2-78c5240d8998 .subtle-fill{fill-opacity:.2}#chart-ae967b59-71e3-4c2d-88c2-78c5240d8998 .dot{stroke-width:1px;fill-opacity:1}#chart-ae967b59-71e3-4c2d-88c2-78c5240d8998 .dot.active{stroke-width:5px}#chart-ae967b59-71e3-4c2d-88c2-78c5240d8998 .dot.negative{fill:transparent}#chart-ae967b59-71e3-4c2d-88c2-78c5240d8998 text,#chart-ae967b59-71e3-4c2d-88c2-78c5240d8998 tspan{stroke:none !important}#chart-ae967b59-71e3-4c2d-88c2-78c5240d8998 .series text.active{opacity:1}#chart-ae967b59-71e3-4c2d-88c2-78c5240d8998 .tooltip rect{fill-opacity:.95;stroke-width:.5}#chart-ae967b59-71e3-4c2d-88c2-78c5240d8998 .tooltip text{fill-opacity:1}#chart-ae967b59-71e3-4c2d-88c2-78c5240d8998 .showable{visibility:hidden}#chart-ae967b59-71e3-4c2d-88c2-78c5240d8998 .showable.shown{visibility:visible}#chart-ae967b59-71e3-4c2d-88c2-78c5240d8998 .gauge-background{fill:rgba(229,229,229,1);stroke:none}#chart-ae967b59-71e3-4c2d-88c2-78c5240d8998 .bg-lines{stroke:rgba(249,249,249,1);stroke-width:2px}</style><script type=\"text/javascript\">window.pygal = window.pygal || {};window.pygal.config = window.pygal.config || {};window.pygal.config['ae967b59-71e3-4c2d-88c2-78c5240d8998'] = {\"allow_interruptions\": false, \"box_mode\": \"extremes\", \"classes\": [\"pygal-chart\"], \"css\": [\"file://style.css\", \"file://graph.css\"], \"defs\": [], \"disable_xml_declaration\": false, \"dots_size\": 2.5, \"dynamic_print_values\": false, \"explicit_size\": false, \"fill\": true, \"force_uri_protocol\": \"https\", \"formatter\": null, \"half_pie\": false, \"height\": 600, \"include_x_axis\": false, \"inner_radius\": 0, \"interpolate\": null, \"interpolation_parameters\": {}, \"interpolation_precision\": 250, \"inverse_y_axis\": false, \"js\": [\"//kozea.github.io/pygal.js/2.0.x/pygal-tooltips.min.js\"], \"legend_at_bottom\": true, \"legend_at_bottom_columns\": 2, \"legend_box_size\": 12, \"logarithmic\": false, \"margin\": 20, \"margin_bottom\": null, \"margin_left\": null, \"margin_right\": null, \"margin_top\": null, \"max_scale\": 16, \"min_scale\": 4, \"missing_value_fill_truncation\": \"x\", \"no_data_text\": \"No data\", \"no_prefix\": false, \"order_min\": null, \"pretty_print\": false, \"print_labels\": false, \"print_values\": false, \"print_values_position\": \"center\", \"print_zeroes\": true, \"range\": null, \"rounded_bars\": null, \"secondary_range\": null, \"show_dots\": true, \"show_legend\": true, \"show_minor_x_labels\": true, \"show_minor_y_labels\": true, \"show_only_major_dots\": false, \"show_x_guides\": true, \"show_x_labels\": true, \"show_y_guides\": false, \"show_y_labels\": true, \"spacing\": 10, \"stack_from_top\": false, \"strict\": false, \"stroke\": true, \"stroke_style\": null, \"style\": {\"background\": \"rgba(249, 249, 249, 1)\", \"ci_colors\": [], \"colors\": [\"#F44336\", \"#3F51B5\", \"#009688\", \"#FFC107\", \"#FF5722\", \"#9C27B0\", \"#03A9F4\", \"#8BC34A\", \"#FF9800\", \"#E91E63\", \"#2196F3\", \"#4CAF50\", \"#FFEB3B\", \"#673AB7\", \"#00BCD4\", \"#CDDC39\", \"#9E9E9E\", \"#607D8B\"], \"font_family\": \"Consolas, \\\"Liberation Mono\\\", Menlo, Courier, monospace\", \"foreground\": \"rgba(0, 0, 0, .87)\", \"foreground_strong\": \"rgba(0, 0, 0, 1)\", \"foreground_subtle\": \"rgba(0, 0, 0, .54)\", \"guide_stroke_dasharray\": \"4,4\", \"label_font_family\": \"Consolas, \\\"Liberation Mono\\\", Menlo, Courier, monospace\", \"label_font_size\": 10, \"legend_font_family\": \"Consolas, \\\"Liberation Mono\\\", Menlo, Courier, monospace\", \"legend_font_size\": 14, \"major_guide_stroke_dasharray\": \"6,6\", \"major_label_font_family\": \"Consolas, \\\"Liberation Mono\\\", Menlo, Courier, monospace\", \"major_label_font_size\": 10, \"no_data_font_family\": \"Consolas, \\\"Liberation Mono\\\", Menlo, Courier, monospace\", \"no_data_font_size\": 64, \"opacity\": \".7\", \"opacity_hover\": \".8\", \"plot_background\": \"rgba(255, 255, 255, 1)\", \"stroke_opacity\": \".8\", \"stroke_opacity_hover\": \".9\", \"title_font_family\": \"Consolas, \\\"Liberation Mono\\\", Menlo, Courier, monospace\", \"title_font_size\": 16, \"tooltip_font_family\": \"Consolas, \\\"Liberation Mono\\\", Menlo, Courier, monospace\", \"tooltip_font_size\": 14, \"transition\": \"150ms\", \"value_background\": \"rgba(229, 229, 229, 1)\", \"value_colors\": [], \"value_font_family\": \"Consolas, \\\"Liberation Mono\\\", Menlo, Courier, monospace\", \"value_font_size\": 16, \"value_label_font_family\": \"Consolas, \\\"Liberation Mono\\\", Menlo, Courier, monospace\", \"value_label_font_size\": 10}, \"title\": \"Duration Types\", \"tooltip_border_radius\": 0, \"tooltip_fancy_mode\": true, \"truncate_label\": null, \"truncate_legend\": null, \"width\": 800, \"x_label_rotation\": 0, \"x_labels\": null, \"x_labels_major\": null, \"x_labels_major_count\": null, \"x_labels_major_every\": null, \"x_title\": null, \"xrange\": null, \"y_label_rotation\": 0, \"y_labels\": null, \"y_labels_major\": null, \"y_labels_major_count\": null, \"y_labels_major_every\": null, \"y_title\": null, \"zero\": 0, \"legends\": [\"ModuleLoader2\", \"Main\", \"SubsystemUtility\", \"InitModuleLoader\", \"Model\", \"MDRModelImplementation\", \"ProjectManager\", \"DiagramFactory\", \"TargetManager\", \"ProjectBrowser\"]}</script><script type=\"text/javascript\" xlink:href=\"https://kozea.github.io/pygal.js/2.0.x/pygal-tooltips.min.js\"/></defs><title>Duration Types</title><g class=\"graph horizontalbar-graph horizontal\"><rect x=\"0\" y=\"0\" width=\"800\" height=\"600\" class=\"background\"/><g transform=\"translate(20, 46)\" class=\"plot\"><rect x=\"0\" y=\"0\" width=\"760\" height=\"406.0\" class=\"background\"/><g class=\"axis x always_show\"><g class=\"guides\"><path d=\"M14.615385 0.000000 v406.000000\" class=\"axis major line\"/><text x=\"14.615384615384615\" y=\"421.0\" class=\"major\">0</text></g><g class=\"guides\"><path d=\"M154.898767 0.000000 v406.000000\" class=\"guide line\"/><text x=\"154.8987666845618\" y=\"421.0\" class=\"\">1e+11</text></g><g class=\"guides\"><path d=\"M295.182149 0.000000 v406.000000\" class=\"guide line\"/><text x=\"295.182148753739\" y=\"421.0\" class=\"\">2e+11</text></g><g class=\"guides\"><path d=\"M435.465531 0.000000 v406.000000\" class=\"guide line\"/><text x=\"435.4655308229162\" y=\"421.0\" class=\"\">3e+11</text></g><g class=\"guides\"><path d=\"M575.748913 0.000000 v406.000000\" class=\"guide line\"/><text x=\"575.7489128920934\" y=\"421.0\" class=\"\">4e+11</text></g><g class=\"guides\"><path d=\"M716.032295 0.000000 v406.000000\" class=\"guide line\"/><text x=\"716.0322949612706\" y=\"421.0\" class=\"\">5e+11</text></g></g><g class=\"series serie-9 color-9\"><g class=\"bars\"><g class=\"bar\"><desc class=\"label\">ProjectBrowser</desc><rect x=\"14.615384615384615\" y=\"342.4766153846154\" rx=\"0\" ry=\"0\" width=\"14.980772163341422\" height=\"30.231384615384616\" class=\"rect reactive tooltip-trigger\"/><desc class=\"value\">1.06789357e+10</desc><desc class=\"x centered\">22.105770697055327</desc><desc class=\"y centered\">357.5923076923077</desc></g></g></g><g class=\"series serie-8 color-8\"><g class=\"bars\"><g class=\"bar\"><desc class=\"label\">TargetManager</desc><rect x=\"14.615384615384613\" y=\"308.1227692307692\" rx=\"0\" ry=\"0\" width=\"16.960629151472624\" height=\"30.231384615384616\" class=\"rect reactive tooltip-trigger\"/><desc class=\"value\">1.209026251e+10</desc><desc class=\"x centered\">23.095699191120925</desc><desc class=\"y centered\">323.23846153846154</desc></g></g></g><g class=\"series serie-7 color-7\"><g class=\"bars\"><g class=\"bar\"><desc class=\"label\">DiagramFactory</desc><rect x=\"14.615384615384613\" y=\"273.7689230769231\" rx=\"0\" ry=\"0\" width=\"17.234909930889998\" height=\"30.231384615384616\" class=\"rect reactive tooltip-trigger\"/><desc class=\"value\">1.228578159e+10</desc><desc class=\"x centered\">23.232839580829612</desc><desc class=\"y centered\">288.8846153846154</desc></g></g></g><g class=\"series serie-6 color-6\"><g class=\"bars\"><g class=\"bar\"><desc class=\"label\">ProjectManager</desc><rect x=\"14.615384615384613\" y=\"239.41507692307692\" rx=\"0\" ry=\"0\" width=\"18.290763504044378\" height=\"30.231384615384616\" class=\"rect reactive tooltip-trigger\"/><desc class=\"value\">1.303843922e+10</desc><desc class=\"x centered\">23.760766367406802</desc><desc class=\"y centered\">254.53076923076924</desc></g></g></g><g class=\"series serie-5 color-5\"><g class=\"bars\"><g class=\"bar\"><desc class=\"label\">MDRModelImplementation</desc><rect x=\"14.615384615384613\" y=\"205.06123076923075\" rx=\"0\" ry=\"0\" width=\"22.399980655190838\" height=\"30.231384615384616\" class=\"rect reactive tooltip-trigger\"/><desc class=\"value\">1.596766511e+10</desc><desc class=\"x centered\">25.815374942980032</desc><desc class=\"y centered\">220.17692307692306</desc></g></g></g><g class=\"series serie-4 color-4\"><g class=\"bars\"><g class=\"bar\"><desc class=\"label\">Model</desc><rect x=\"14.615384615384613\" y=\"170.7073846153846\" rx=\"0\" ry=\"0\" width=\"25.08009187237183\" height=\"30.231384615384616\" class=\"rect reactive tooltip-trigger\"/><desc class=\"value\">1.787816312e+10</desc><desc class=\"x centered\">27.15543055157053</desc><desc class=\"y centered\">185.8230769230769</desc></g></g></g><g class=\"series serie-3 color-3\"><g class=\"bars\"><g class=\"bar\"><desc class=\"label\">InitModuleLoader</desc><rect x=\"14.615384615384613\" y=\"136.35353846153842\" rx=\"0\" ry=\"0\" width=\"93.6709161569817\" height=\"30.231384615384616\" class=\"rect reactive tooltip-trigger\"/><desc class=\"value\">6.677263891e+10</desc><desc class=\"x centered\">61.450842693875465</desc><desc class=\"y centered\">151.46923076923073</desc></g></g></g><g class=\"series serie-2 color-2\"><g class=\"bars\"><g class=\"bar\"><desc class=\"label\">SubsystemUtility</desc><rect x=\"14.615384615384613\" y=\"101.99969230769229\" rx=\"0\" ry=\"0\" width=\"102.81117130050252\" height=\"30.231384615384616\" class=\"rect reactive tooltip-trigger\"/><desc class=\"value\">7.328820405e+10</desc><desc class=\"x centered\">66.02097026563587</desc><desc class=\"y centered\">117.11538461538458</desc></g></g></g><g class=\"series serie-1 color-1\"><g class=\"bars\"><g class=\"bar\"><desc class=\"label\">Main</desc><rect x=\"14.615384615384642\" y=\"67.64584615384614\" rx=\"0\" ry=\"0\" width=\"359.9178207366604\" height=\"30.231384615384616\" class=\"rect reactive tooltip-trigger\"/><desc class=\"value\">2.5656483e+11</desc><desc class=\"x centered\">194.57429498371485</desc><desc class=\"y centered\">82.76153846153844</desc></g></g></g><g class=\"series serie-0 color-0\"><g class=\"bars\"><g class=\"bar\"><desc class=\"label\">ModuleLoader2</desc><rect x=\"14.615384615384642\" y=\"33.29199999999996\" rx=\"0\" ry=\"0\" width=\"730.7692307692307\" height=\"30.231384615384616\" class=\"rect reactive tooltip-trigger\"/><desc class=\"value\">5.209235905e+11</desc><desc class=\"x centered\">380.0</desc><desc class=\"y centered\">48.40769230769227</desc></g></g></g></g><g class=\"titles\"><text x=\"400.0\" y=\"26\" class=\"title plot_title\">Duration Types</text></g><g transform=\"translate(20, 46)\" class=\"plot overlay\"><g class=\"series serie-9 color-9\"/><g class=\"series serie-8 color-8\"/><g class=\"series serie-7 color-7\"/><g class=\"series serie-6 color-6\"/><g class=\"series serie-5 color-5\"/><g class=\"series serie-4 color-4\"/><g class=\"series serie-3 color-3\"/><g class=\"series serie-2 color-2\"/><g class=\"series serie-1 color-1\"/><g class=\"series serie-0 color-0\"/></g><g transform=\"translate(20, 46)\" class=\"plot text-overlay\"><g class=\"series serie-9 color-9\"/><g class=\"series serie-8 color-8\"/><g class=\"series serie-7 color-7\"/><g class=\"series serie-6 color-6\"/><g class=\"series serie-5 color-5\"/><g class=\"series serie-4 color-4\"/><g class=\"series serie-3 color-3\"/><g class=\"series serie-2 color-2\"/><g class=\"series serie-1 color-1\"/><g class=\"series serie-0 color-0\"/></g><g transform=\"translate(20, 46)\" class=\"plot tooltip-overlay\"><g transform=\"translate(0 0)\" style=\"opacity: 0\" class=\"tooltip\"><rect rx=\"0\" ry=\"0\" width=\"0\" height=\"0\" class=\"tooltip-box\"/><g class=\"text\"/></g></g><g transform=\"translate(30, 482)\" class=\"legends\"><g id=\"activate-serie-0\" class=\"legend reactive activate-serie\"><rect x=\"0.0\" y=\"1.0\" width=\"12\" height=\"12\" class=\"color-0 reactive\"/><text x=\"17.0\" y=\"11.2\">ModuleLoader2</text></g><g id=\"activate-serie-1\" class=\"legend reactive activate-serie\"><rect x=\"380.0\" y=\"1.0\" width=\"12\" height=\"12\" class=\"color-1 reactive\"/><text x=\"397.0\" y=\"11.2\">Main</text></g><g id=\"activate-serie-2\" class=\"legend reactive activate-serie\"><rect x=\"0.0\" y=\"22.0\" width=\"12\" height=\"12\" class=\"color-2 reactive\"/><text x=\"17.0\" y=\"32.2\">SubsystemUtility</text></g><g id=\"activate-serie-3\" class=\"legend reactive activate-serie\"><rect x=\"380.0\" y=\"22.0\" width=\"12\" height=\"12\" class=\"color-3 reactive\"/><text x=\"397.0\" y=\"32.2\">InitModuleLoader</text></g><g id=\"activate-serie-4\" class=\"legend reactive activate-serie\"><rect x=\"0.0\" y=\"43.0\" width=\"12\" height=\"12\" class=\"color-4 reactive\"/><text x=\"17.0\" y=\"53.2\">Model</text></g><g id=\"activate-serie-5\" class=\"legend reactive activate-serie\"><rect x=\"380.0\" y=\"43.0\" width=\"12\" height=\"12\" class=\"color-5 reactive\"/><text x=\"397.0\" y=\"53.2\">MDRModelImplementation</text></g><g id=\"activate-serie-6\" class=\"legend reactive activate-serie\"><rect x=\"0.0\" y=\"64.0\" width=\"12\" height=\"12\" class=\"color-6 reactive\"/><text x=\"17.0\" y=\"74.2\">ProjectManager</text></g><g id=\"activate-serie-7\" class=\"legend reactive activate-serie\"><rect x=\"380.0\" y=\"64.0\" width=\"12\" height=\"12\" class=\"color-7 reactive\"/><text x=\"397.0\" y=\"74.2\">DiagramFactory</text></g><g id=\"activate-serie-8\" class=\"legend reactive activate-serie\"><rect x=\"0.0\" y=\"85.0\" width=\"12\" height=\"12\" class=\"color-8 reactive\"/><text x=\"17.0\" y=\"95.2\">TargetManager</text></g><g id=\"activate-serie-9\" class=\"legend reactive activate-serie\"><rect x=\"380.0\" y=\"85.0\" width=\"12\" height=\"12\" class=\"color-9 reactive\"/><text x=\"397.0\" y=\"95.2\">ProjectBrowser</text></g></g></g></svg>\n",
       "    </figure>\n",
       "  </body>\n",
       "</html>\n"
      ],
      "text/plain": [
       "<IPython.core.display.HTML object>"
      ]
     },
     "metadata": {},
     "output_type": "display_data"
    }
   ],
   "source": [
    "# Erstelle Bar Chart für druation.\n",
    "import pygal\n",
    "bar_chart = pygal.HorizontalBar(show_legend=True, human_readable=True, fill=True, legend_at_bottom=True, legend_at_bottom_columns=2)\n",
    "bar_chart.title = 'Duration Types'\n",
    "for index, row in loc_df.iterrows():\n",
    "    bar_chart.add(row['Type'],[{\"value\": row['Duration'], \"label\": row['Type']}])\n",
    "display(HTML(base_html.format(rendered_chart=bar_chart.render(is_unicode=True))))"
   ]
  },
  {
   "cell_type": "code",
   "execution_count": 9,
   "metadata": {},
   "outputs": [
    {
     "data": {
      "text/html": [
       "\n",
       "<!DOCTYPE html>\n",
       "<html>\n",
       "  <head>\n",
       "  <script type=\"text/javascript\" src=\"http://kozea.github.com/pygal.js/javascripts/svg.jquery.js\"></script>\n",
       "  <script type=\"text/javascript\" src=\"https://kozea.github.io/pygal.js/2.0.x/pygal-tooltips.min.js\"\"></script>\n",
       "  </head>\n",
       "  <body>\n",
       "    <figure>\n",
       "      <?xml version='1.0' encoding='utf-8'?>\n",
       "<svg xmlns=\"http://www.w3.org/2000/svg\" xmlns:xlink=\"http://www.w3.org/1999/xlink\" id=\"chart-ccea2e00-0e5f-4346-a72f-bac91a1c505e\" class=\"pygal-chart\" viewBox=\"0 0 800 600\"><!--Generated with pygal 2.4.0 (lxml) ©Kozea 2012-2016 on 2021-08-25--><!--http://pygal.org--><!--http://github.com/Kozea/pygal--><defs><style type=\"text/css\">#chart-ccea2e00-0e5f-4346-a72f-bac91a1c505e{-webkit-user-select:none;-webkit-font-smoothing:antialiased;font-family:Consolas,\"Liberation Mono\",Menlo,Courier,monospace}#chart-ccea2e00-0e5f-4346-a72f-bac91a1c505e .title{font-family:Consolas,\"Liberation Mono\",Menlo,Courier,monospace;font-size:16px}#chart-ccea2e00-0e5f-4346-a72f-bac91a1c505e .legends .legend text{font-family:Consolas,\"Liberation Mono\",Menlo,Courier,monospace;font-size:14px}#chart-ccea2e00-0e5f-4346-a72f-bac91a1c505e .axis text{font-family:Consolas,\"Liberation Mono\",Menlo,Courier,monospace;font-size:10px}#chart-ccea2e00-0e5f-4346-a72f-bac91a1c505e .axis text.major{font-family:Consolas,\"Liberation Mono\",Menlo,Courier,monospace;font-size:10px}#chart-ccea2e00-0e5f-4346-a72f-bac91a1c505e .text-overlay text.value{font-family:Consolas,\"Liberation Mono\",Menlo,Courier,monospace;font-size:16px}#chart-ccea2e00-0e5f-4346-a72f-bac91a1c505e .text-overlay text.label{font-family:Consolas,\"Liberation Mono\",Menlo,Courier,monospace;font-size:10px}#chart-ccea2e00-0e5f-4346-a72f-bac91a1c505e .tooltip{font-family:Consolas,\"Liberation Mono\",Menlo,Courier,monospace;font-size:14px}#chart-ccea2e00-0e5f-4346-a72f-bac91a1c505e text.no_data{font-family:Consolas,\"Liberation Mono\",Menlo,Courier,monospace;font-size:64px}\n",
       "#chart-ccea2e00-0e5f-4346-a72f-bac91a1c505e{background-color:rgba(249,249,249,1)}#chart-ccea2e00-0e5f-4346-a72f-bac91a1c505e path,#chart-ccea2e00-0e5f-4346-a72f-bac91a1c505e line,#chart-ccea2e00-0e5f-4346-a72f-bac91a1c505e rect,#chart-ccea2e00-0e5f-4346-a72f-bac91a1c505e circle{-webkit-transition:150ms;-moz-transition:150ms;transition:150ms}#chart-ccea2e00-0e5f-4346-a72f-bac91a1c505e .graph &gt; .background{fill:rgba(249,249,249,1)}#chart-ccea2e00-0e5f-4346-a72f-bac91a1c505e .plot &gt; .background{fill:rgba(255,255,255,1)}#chart-ccea2e00-0e5f-4346-a72f-bac91a1c505e .graph{fill:rgba(0,0,0,.87)}#chart-ccea2e00-0e5f-4346-a72f-bac91a1c505e text.no_data{fill:rgba(0,0,0,1)}#chart-ccea2e00-0e5f-4346-a72f-bac91a1c505e .title{fill:rgba(0,0,0,1)}#chart-ccea2e00-0e5f-4346-a72f-bac91a1c505e .legends .legend text{fill:rgba(0,0,0,.87)}#chart-ccea2e00-0e5f-4346-a72f-bac91a1c505e .legends .legend:hover text{fill:rgba(0,0,0,1)}#chart-ccea2e00-0e5f-4346-a72f-bac91a1c505e .axis .line{stroke:rgba(0,0,0,1)}#chart-ccea2e00-0e5f-4346-a72f-bac91a1c505e .axis .guide.line{stroke:rgba(0,0,0,.54)}#chart-ccea2e00-0e5f-4346-a72f-bac91a1c505e .axis .major.line{stroke:rgba(0,0,0,.87)}#chart-ccea2e00-0e5f-4346-a72f-bac91a1c505e .axis text.major{fill:rgba(0,0,0,1)}#chart-ccea2e00-0e5f-4346-a72f-bac91a1c505e .axis.y .guides:hover .guide.line,#chart-ccea2e00-0e5f-4346-a72f-bac91a1c505e .line-graph .axis.x .guides:hover .guide.line,#chart-ccea2e00-0e5f-4346-a72f-bac91a1c505e .stackedline-graph .axis.x .guides:hover .guide.line,#chart-ccea2e00-0e5f-4346-a72f-bac91a1c505e .xy-graph .axis.x .guides:hover .guide.line{stroke:rgba(0,0,0,1)}#chart-ccea2e00-0e5f-4346-a72f-bac91a1c505e .axis .guides:hover text{fill:rgba(0,0,0,1)}#chart-ccea2e00-0e5f-4346-a72f-bac91a1c505e .reactive{fill-opacity:.7;stroke-opacity:.8}#chart-ccea2e00-0e5f-4346-a72f-bac91a1c505e .ci{stroke:rgba(0,0,0,.87)}#chart-ccea2e00-0e5f-4346-a72f-bac91a1c505e .reactive.active,#chart-ccea2e00-0e5f-4346-a72f-bac91a1c505e .active .reactive{fill-opacity:.8;stroke-opacity:.9;stroke-width:4}#chart-ccea2e00-0e5f-4346-a72f-bac91a1c505e .ci .reactive.active{stroke-width:1.5}#chart-ccea2e00-0e5f-4346-a72f-bac91a1c505e .series text{fill:rgba(0,0,0,1)}#chart-ccea2e00-0e5f-4346-a72f-bac91a1c505e .tooltip rect{fill:rgba(255,255,255,1);stroke:rgba(0,0,0,1);-webkit-transition:opacity 150ms;-moz-transition:opacity 150ms;transition:opacity 150ms}#chart-ccea2e00-0e5f-4346-a72f-bac91a1c505e .tooltip .label{fill:rgba(0,0,0,.87)}#chart-ccea2e00-0e5f-4346-a72f-bac91a1c505e .tooltip .label{fill:rgba(0,0,0,.87)}#chart-ccea2e00-0e5f-4346-a72f-bac91a1c505e .tooltip .legend{font-size:.8em;fill:rgba(0,0,0,.54)}#chart-ccea2e00-0e5f-4346-a72f-bac91a1c505e .tooltip .x_label{font-size:.6em;fill:rgba(0,0,0,1)}#chart-ccea2e00-0e5f-4346-a72f-bac91a1c505e .tooltip .xlink{font-size:.5em;text-decoration:underline}#chart-ccea2e00-0e5f-4346-a72f-bac91a1c505e .tooltip .value{font-size:1.5em}#chart-ccea2e00-0e5f-4346-a72f-bac91a1c505e .bound{font-size:.5em}#chart-ccea2e00-0e5f-4346-a72f-bac91a1c505e .max-value{font-size:.75em;fill:rgba(0,0,0,.54)}#chart-ccea2e00-0e5f-4346-a72f-bac91a1c505e .map-element{fill:rgba(255,255,255,1);stroke:rgba(0,0,0,.54) !important}#chart-ccea2e00-0e5f-4346-a72f-bac91a1c505e .map-element .reactive{fill-opacity:inherit;stroke-opacity:inherit}#chart-ccea2e00-0e5f-4346-a72f-bac91a1c505e .color-0,#chart-ccea2e00-0e5f-4346-a72f-bac91a1c505e .color-0 a:visited{stroke:#F44336;fill:#F44336}#chart-ccea2e00-0e5f-4346-a72f-bac91a1c505e .color-1,#chart-ccea2e00-0e5f-4346-a72f-bac91a1c505e .color-1 a:visited{stroke:#3F51B5;fill:#3F51B5}#chart-ccea2e00-0e5f-4346-a72f-bac91a1c505e .color-2,#chart-ccea2e00-0e5f-4346-a72f-bac91a1c505e .color-2 a:visited{stroke:#009688;fill:#009688}#chart-ccea2e00-0e5f-4346-a72f-bac91a1c505e .color-3,#chart-ccea2e00-0e5f-4346-a72f-bac91a1c505e .color-3 a:visited{stroke:#FFC107;fill:#FFC107}#chart-ccea2e00-0e5f-4346-a72f-bac91a1c505e .color-4,#chart-ccea2e00-0e5f-4346-a72f-bac91a1c505e .color-4 a:visited{stroke:#FF5722;fill:#FF5722}#chart-ccea2e00-0e5f-4346-a72f-bac91a1c505e .color-5,#chart-ccea2e00-0e5f-4346-a72f-bac91a1c505e .color-5 a:visited{stroke:#9C27B0;fill:#9C27B0}#chart-ccea2e00-0e5f-4346-a72f-bac91a1c505e .color-6,#chart-ccea2e00-0e5f-4346-a72f-bac91a1c505e .color-6 a:visited{stroke:#03A9F4;fill:#03A9F4}#chart-ccea2e00-0e5f-4346-a72f-bac91a1c505e .color-7,#chart-ccea2e00-0e5f-4346-a72f-bac91a1c505e .color-7 a:visited{stroke:#8BC34A;fill:#8BC34A}#chart-ccea2e00-0e5f-4346-a72f-bac91a1c505e .color-8,#chart-ccea2e00-0e5f-4346-a72f-bac91a1c505e .color-8 a:visited{stroke:#FF9800;fill:#FF9800}#chart-ccea2e00-0e5f-4346-a72f-bac91a1c505e .color-9,#chart-ccea2e00-0e5f-4346-a72f-bac91a1c505e .color-9 a:visited{stroke:#E91E63;fill:#E91E63}#chart-ccea2e00-0e5f-4346-a72f-bac91a1c505e .text-overlay .color-0 text{fill:black}#chart-ccea2e00-0e5f-4346-a72f-bac91a1c505e .text-overlay .color-1 text{fill:black}#chart-ccea2e00-0e5f-4346-a72f-bac91a1c505e .text-overlay .color-2 text{fill:black}#chart-ccea2e00-0e5f-4346-a72f-bac91a1c505e .text-overlay .color-3 text{fill:black}#chart-ccea2e00-0e5f-4346-a72f-bac91a1c505e .text-overlay .color-4 text{fill:black}#chart-ccea2e00-0e5f-4346-a72f-bac91a1c505e .text-overlay .color-5 text{fill:black}#chart-ccea2e00-0e5f-4346-a72f-bac91a1c505e .text-overlay .color-6 text{fill:black}#chart-ccea2e00-0e5f-4346-a72f-bac91a1c505e .text-overlay .color-7 text{fill:black}#chart-ccea2e00-0e5f-4346-a72f-bac91a1c505e .text-overlay .color-8 text{fill:black}#chart-ccea2e00-0e5f-4346-a72f-bac91a1c505e .text-overlay .color-9 text{fill:black}\n",
       "#chart-ccea2e00-0e5f-4346-a72f-bac91a1c505e text.no_data{text-anchor:middle}#chart-ccea2e00-0e5f-4346-a72f-bac91a1c505e .guide.line{fill:none}#chart-ccea2e00-0e5f-4346-a72f-bac91a1c505e .centered{text-anchor:middle}#chart-ccea2e00-0e5f-4346-a72f-bac91a1c505e .title{text-anchor:middle}#chart-ccea2e00-0e5f-4346-a72f-bac91a1c505e .legends .legend text{fill-opacity:1}#chart-ccea2e00-0e5f-4346-a72f-bac91a1c505e .axis.x text{text-anchor:middle}#chart-ccea2e00-0e5f-4346-a72f-bac91a1c505e .axis.x:not(.web) text[transform]{text-anchor:start}#chart-ccea2e00-0e5f-4346-a72f-bac91a1c505e .axis.x:not(.web) text[transform].backwards{text-anchor:end}#chart-ccea2e00-0e5f-4346-a72f-bac91a1c505e .axis.y text{text-anchor:end}#chart-ccea2e00-0e5f-4346-a72f-bac91a1c505e .axis.y text[transform].backwards{text-anchor:start}#chart-ccea2e00-0e5f-4346-a72f-bac91a1c505e .axis.y2 text{text-anchor:start}#chart-ccea2e00-0e5f-4346-a72f-bac91a1c505e .axis.y2 text[transform].backwards{text-anchor:end}#chart-ccea2e00-0e5f-4346-a72f-bac91a1c505e .axis .guide.line{stroke-dasharray:4,4}#chart-ccea2e00-0e5f-4346-a72f-bac91a1c505e .axis .major.guide.line{stroke-dasharray:6,6}#chart-ccea2e00-0e5f-4346-a72f-bac91a1c505e .horizontal .axis.y .guide.line,#chart-ccea2e00-0e5f-4346-a72f-bac91a1c505e .horizontal .axis.y2 .guide.line,#chart-ccea2e00-0e5f-4346-a72f-bac91a1c505e .vertical .axis.x .guide.line{opacity:0}#chart-ccea2e00-0e5f-4346-a72f-bac91a1c505e .horizontal .axis.always_show .guide.line,#chart-ccea2e00-0e5f-4346-a72f-bac91a1c505e .vertical .axis.always_show .guide.line{opacity:1 !important}#chart-ccea2e00-0e5f-4346-a72f-bac91a1c505e .axis.y .guides:hover .guide.line,#chart-ccea2e00-0e5f-4346-a72f-bac91a1c505e .axis.y2 .guides:hover .guide.line,#chart-ccea2e00-0e5f-4346-a72f-bac91a1c505e .axis.x .guides:hover .guide.line{opacity:1}#chart-ccea2e00-0e5f-4346-a72f-bac91a1c505e .axis .guides:hover text{opacity:1}#chart-ccea2e00-0e5f-4346-a72f-bac91a1c505e .nofill{fill:none}#chart-ccea2e00-0e5f-4346-a72f-bac91a1c505e .subtle-fill{fill-opacity:.2}#chart-ccea2e00-0e5f-4346-a72f-bac91a1c505e .dot{stroke-width:1px;fill-opacity:1}#chart-ccea2e00-0e5f-4346-a72f-bac91a1c505e .dot.active{stroke-width:5px}#chart-ccea2e00-0e5f-4346-a72f-bac91a1c505e .dot.negative{fill:transparent}#chart-ccea2e00-0e5f-4346-a72f-bac91a1c505e text,#chart-ccea2e00-0e5f-4346-a72f-bac91a1c505e tspan{stroke:none !important}#chart-ccea2e00-0e5f-4346-a72f-bac91a1c505e .series text.active{opacity:1}#chart-ccea2e00-0e5f-4346-a72f-bac91a1c505e .tooltip rect{fill-opacity:.95;stroke-width:.5}#chart-ccea2e00-0e5f-4346-a72f-bac91a1c505e .tooltip text{fill-opacity:1}#chart-ccea2e00-0e5f-4346-a72f-bac91a1c505e .showable{visibility:hidden}#chart-ccea2e00-0e5f-4346-a72f-bac91a1c505e .showable.shown{visibility:visible}#chart-ccea2e00-0e5f-4346-a72f-bac91a1c505e .gauge-background{fill:rgba(229,229,229,1);stroke:none}#chart-ccea2e00-0e5f-4346-a72f-bac91a1c505e .bg-lines{stroke:rgba(249,249,249,1);stroke-width:2px}</style><script type=\"text/javascript\">window.pygal = window.pygal || {};window.pygal.config = window.pygal.config || {};window.pygal.config['ccea2e00-0e5f-4346-a72f-bac91a1c505e'] = {\"allow_interruptions\": false, \"box_mode\": \"extremes\", \"classes\": [\"pygal-chart\"], \"css\": [\"file://style.css\", \"file://graph.css\"], \"defs\": [], \"disable_xml_declaration\": false, \"dots_size\": 2.5, \"dynamic_print_values\": false, \"explicit_size\": false, \"fill\": true, \"force_uri_protocol\": \"https\", \"formatter\": null, \"half_pie\": false, \"height\": 600, \"include_x_axis\": false, \"inner_radius\": 0, \"interpolate\": null, \"interpolation_parameters\": {}, \"interpolation_precision\": 250, \"inverse_y_axis\": false, \"js\": [\"//kozea.github.io/pygal.js/2.0.x/pygal-tooltips.min.js\"], \"legend_at_bottom\": true, \"legend_at_bottom_columns\": 2, \"legend_box_size\": 12, \"logarithmic\": false, \"margin\": 20, \"margin_bottom\": null, \"margin_left\": null, \"margin_right\": null, \"margin_top\": null, \"max_scale\": 16, \"min_scale\": 4, \"missing_value_fill_truncation\": \"x\", \"no_data_text\": \"No data\", \"no_prefix\": false, \"order_min\": null, \"pretty_print\": false, \"print_labels\": false, \"print_values\": false, \"print_values_position\": \"center\", \"print_zeroes\": true, \"range\": null, \"rounded_bars\": null, \"secondary_range\": null, \"show_dots\": true, \"show_legend\": true, \"show_minor_x_labels\": true, \"show_minor_y_labels\": true, \"show_only_major_dots\": false, \"show_x_guides\": true, \"show_x_labels\": true, \"show_y_guides\": false, \"show_y_labels\": true, \"spacing\": 10, \"stack_from_top\": false, \"strict\": false, \"stroke\": true, \"stroke_style\": null, \"style\": {\"background\": \"rgba(249, 249, 249, 1)\", \"ci_colors\": [], \"colors\": [\"#F44336\", \"#3F51B5\", \"#009688\", \"#FFC107\", \"#FF5722\", \"#9C27B0\", \"#03A9F4\", \"#8BC34A\", \"#FF9800\", \"#E91E63\", \"#2196F3\", \"#4CAF50\", \"#FFEB3B\", \"#673AB7\", \"#00BCD4\", \"#CDDC39\", \"#9E9E9E\", \"#607D8B\"], \"font_family\": \"Consolas, \\\"Liberation Mono\\\", Menlo, Courier, monospace\", \"foreground\": \"rgba(0, 0, 0, .87)\", \"foreground_strong\": \"rgba(0, 0, 0, 1)\", \"foreground_subtle\": \"rgba(0, 0, 0, .54)\", \"guide_stroke_dasharray\": \"4,4\", \"label_font_family\": \"Consolas, \\\"Liberation Mono\\\", Menlo, Courier, monospace\", \"label_font_size\": 10, \"legend_font_family\": \"Consolas, \\\"Liberation Mono\\\", Menlo, Courier, monospace\", \"legend_font_size\": 14, \"major_guide_stroke_dasharray\": \"6,6\", \"major_label_font_family\": \"Consolas, \\\"Liberation Mono\\\", Menlo, Courier, monospace\", \"major_label_font_size\": 10, \"no_data_font_family\": \"Consolas, \\\"Liberation Mono\\\", Menlo, Courier, monospace\", \"no_data_font_size\": 64, \"opacity\": \".7\", \"opacity_hover\": \".8\", \"plot_background\": \"rgba(255, 255, 255, 1)\", \"stroke_opacity\": \".8\", \"stroke_opacity_hover\": \".9\", \"title_font_family\": \"Consolas, \\\"Liberation Mono\\\", Menlo, Courier, monospace\", \"title_font_size\": 16, \"tooltip_font_family\": \"Consolas, \\\"Liberation Mono\\\", Menlo, Courier, monospace\", \"tooltip_font_size\": 14, \"transition\": \"150ms\", \"value_background\": \"rgba(229, 229, 229, 1)\", \"value_colors\": [], \"value_font_family\": \"Consolas, \\\"Liberation Mono\\\", Menlo, Courier, monospace\", \"value_font_size\": 16, \"value_label_font_family\": \"Consolas, \\\"Liberation Mono\\\", Menlo, Courier, monospace\", \"value_label_font_size\": 10}, \"title\": \"Duration Method\", \"tooltip_border_radius\": 0, \"tooltip_fancy_mode\": true, \"truncate_label\": null, \"truncate_legend\": null, \"width\": 800, \"x_label_rotation\": 0, \"x_labels\": null, \"x_labels_major\": null, \"x_labels_major_count\": null, \"x_labels_major_every\": null, \"x_title\": null, \"xrange\": null, \"y_label_rotation\": 0, \"y_labels\": null, \"y_labels_major\": null, \"y_labels_major_count\": null, \"y_labels_major_every\": null, \"y_title\": null, \"zero\": 0, \"legends\": [\"main\", \"initializeSubsystems\", \"initSubsystem\", \"init\", \"doLoad\", \"doInternal\", \"huntForModules\", \"huntForModulesFromExtensionDir\", \"huntModulesFromNamedDirectory\", \"processJarFile\"]}</script><script type=\"text/javascript\" xlink:href=\"https://kozea.github.io/pygal.js/2.0.x/pygal-tooltips.min.js\"/></defs><title>Duration Method</title><g class=\"graph horizontalbar-graph horizontal\"><rect x=\"0\" y=\"0\" width=\"800\" height=\"600\" class=\"background\"/><g transform=\"translate(20, 46)\" class=\"plot\"><rect x=\"0\" y=\"0\" width=\"760\" height=\"406.0\" class=\"background\"/><g class=\"axis x always_show\"><g class=\"guides\"><path d=\"M14.615385 0.000000 v406.000000\" class=\"axis major line\"/><text x=\"14.615384615384617\" y=\"421.0\" class=\"major\">0</text></g><g class=\"guides\"><path d=\"M77.501374 0.000000 v406.000000\" class=\"guide line\"/><text x=\"77.5013739964222\" y=\"421.0\" class=\"\">1e+10</text></g><g class=\"guides\"><path d=\"M140.387363 0.000000 v406.000000\" class=\"guide line\"/><text x=\"140.38736337745976\" y=\"421.0\" class=\"\">2e+10</text></g><g class=\"guides\"><path d=\"M203.273353 0.000000 v406.000000\" class=\"guide line\"/><text x=\"203.27335275849734\" y=\"421.0\" class=\"\">3e+10</text></g><g class=\"guides\"><path d=\"M266.159342 0.000000 v406.000000\" class=\"guide line\"/><text x=\"266.1593421395349\" y=\"421.0\" class=\"\">4e+10</text></g><g class=\"guides\"><path d=\"M329.045332 0.000000 v406.000000\" class=\"major guide line\"/><text x=\"329.04533152057246\" y=\"421.0\" class=\"major\">5e+10</text></g><g class=\"guides\"><path d=\"M391.931321 0.000000 v406.000000\" class=\"guide line\"/><text x=\"391.93132090161004\" y=\"421.0\" class=\"\">6e+10</text></g><g class=\"guides\"><path d=\"M454.817310 0.000000 v406.000000\" class=\"guide line\"/><text x=\"454.81731028264767\" y=\"421.0\" class=\"\">7e+10</text></g><g class=\"guides\"><path d=\"M517.703300 0.000000 v406.000000\" class=\"guide line\"/><text x=\"517.7032996636852\" y=\"421.0\" class=\"\">8e+10</text></g><g class=\"guides\"><path d=\"M580.589289 0.000000 v406.000000\" class=\"guide line\"/><text x=\"580.5892890447228\" y=\"421.0\" class=\"\">9e+10</text></g><g class=\"guides\"><path d=\"M643.475278 0.000000 v406.000000\" class=\"major guide line\"/><text x=\"643.4752784257603\" y=\"421.0\" class=\"major\">1e+11</text></g><g class=\"guides\"><path d=\"M706.361268 0.000000 v406.000000\" class=\"guide line\"/><text x=\"706.3612678067979\" y=\"421.0\" class=\"\">1.1e+11</text></g></g><g class=\"series serie-9 color-9\"><g class=\"bars\"><g class=\"bar\"><desc class=\"label\">ModuleLoader2</desc><rect x=\"14.615384615384642\" y=\"342.4766153846154\" rx=\"0\" ry=\"0\" width=\"406.16508223203255\" height=\"30.231384615384616\" class=\"rect reactive tooltip-trigger\"/><desc class=\"value\">6.458753154e+10</desc><desc class=\"x centered\">217.69792573140091</desc><desc class=\"y centered\">357.5923076923077</desc></g></g></g><g class=\"series serie-8 color-8\"><g class=\"bars\"><g class=\"bar\"><desc class=\"label\">ModuleLoader2</desc><rect x=\"14.615384615384642\" y=\"308.1227692307692\" rx=\"0\" ry=\"0\" width=\"406.2599277301779\" height=\"30.231384615384616\" class=\"rect reactive tooltip-trigger\"/><desc class=\"value\">6.460261367e+10</desc><desc class=\"x centered\">217.74534848047358</desc><desc class=\"y centered\">323.23846153846154</desc></g></g></g><g class=\"series serie-7 color-7\"><g class=\"bars\"><g class=\"bar\"><desc class=\"label\">ModuleLoader2</desc><rect x=\"14.615384615384642\" y=\"273.7689230769231\" rx=\"0\" ry=\"0\" width=\"406.2631230113185\" height=\"30.231384615384616\" class=\"rect reactive tooltip-trigger\"/><desc class=\"value\">6.460312178e+10</desc><desc class=\"x centered\">217.7469461210439</desc><desc class=\"y centered\">288.8846153846154</desc></g></g></g><g class=\"series serie-6 color-6\"><g class=\"bars\"><g class=\"bar\"><desc class=\"label\">ModuleLoader2</desc><rect x=\"14.615384615384642\" y=\"239.41507692307692\" rx=\"0\" ry=\"0\" width=\"406.268781744187\" height=\"30.231384615384616\" class=\"rect reactive tooltip-trigger\"/><desc class=\"value\">6.460402162e+10</desc><desc class=\"x centered\">217.74977548747813</desc><desc class=\"y centered\">254.53076923076924</desc></g></g></g><g class=\"series serie-5 color-5\"><g class=\"bars\"><g class=\"bar\"><desc class=\"label\">ModuleLoader2</desc><rect x=\"14.615384615384642\" y=\"205.06123076923075\" rx=\"0\" ry=\"0\" width=\"419.7398023168213\" height=\"30.231384615384616\" class=\"rect reactive tooltip-trigger\"/><desc class=\"value\">6.674615546e+10</desc><desc class=\"x centered\">224.48528577379528</desc><desc class=\"y centered\">220.17692307692306</desc></g></g></g><g class=\"series serie-4 color-4\"><g class=\"bars\"><g class=\"bar\"><desc class=\"label\">ModuleLoader2</desc><rect x=\"14.615384615384642\" y=\"170.7073846153846\" rx=\"0\" ry=\"0\" width=\"419.741353374595\" height=\"30.231384615384616\" class=\"rect reactive tooltip-trigger\"/><desc class=\"value\">6.67464021e+10</desc><desc class=\"x centered\">224.48606130268215</desc><desc class=\"y centered\">185.8230769230769</desc></g></g></g><g class=\"series serie-3 color-3\"><g class=\"bars\"><g class=\"bar\"><desc class=\"label\">InitModuleLoader</desc><rect x=\"14.615384615384642\" y=\"136.35353846153842\" rx=\"0\" ry=\"0\" width=\"419.7431991852895\" height=\"30.231384615384616\" class=\"rect reactive tooltip-trigger\"/><desc class=\"value\">6.674669562e+10</desc><desc class=\"x centered\">224.48698420802938</desc><desc class=\"y centered\">151.46923076923073</desc></g></g></g><g class=\"series serie-2 color-2\"><g class=\"bars\"><g class=\"bar\"><desc class=\"label\">SubsystemUtility</desc><rect x=\"14.615384615384642\" y=\"101.99969230769229\" rx=\"0\" ry=\"0\" width=\"460.88012217065005\" height=\"30.231384615384616\" class=\"rect reactive tooltip-trigger\"/><desc class=\"value\">7.328820405e+10</desc><desc class=\"x centered\">245.05544570070967</desc><desc class=\"y centered\">117.11538461538458</desc></g></g></g><g class=\"series serie-1 color-1\"><g class=\"bars\"><g class=\"bar\"><desc class=\"label\">Main</desc><rect x=\"14.615384615384642\" y=\"67.64584615384614\" rx=\"0\" ry=\"0\" width=\"681.7522745817772\" height=\"30.231384615384616\" class=\"rect reactive tooltip-trigger\"/><desc class=\"value\">1.08410837e+11</desc><desc class=\"x centered\">355.49152190627325</desc><desc class=\"y centered\">82.76153846153844</desc></g></g></g><g class=\"series serie-0 color-0\"><g class=\"bars\"><g class=\"bar\"><desc class=\"label\">Main</desc><rect x=\"14.615384615384642\" y=\"33.29199999999996\" rx=\"0\" ry=\"0\" width=\"730.7692307692307\" height=\"30.231384615384616\" class=\"rect reactive tooltip-trigger\"/><desc class=\"value\">1.16205412e+11</desc><desc class=\"x centered\">380.0</desc><desc class=\"y centered\">48.40769230769227</desc></g></g></g></g><g class=\"titles\"><text x=\"400.0\" y=\"26\" class=\"title plot_title\">Duration Method</text></g><g transform=\"translate(20, 46)\" class=\"plot overlay\"><g class=\"series serie-9 color-9\"/><g class=\"series serie-8 color-8\"/><g class=\"series serie-7 color-7\"/><g class=\"series serie-6 color-6\"/><g class=\"series serie-5 color-5\"/><g class=\"series serie-4 color-4\"/><g class=\"series serie-3 color-3\"/><g class=\"series serie-2 color-2\"/><g class=\"series serie-1 color-1\"/><g class=\"series serie-0 color-0\"/></g><g transform=\"translate(20, 46)\" class=\"plot text-overlay\"><g class=\"series serie-9 color-9\"/><g class=\"series serie-8 color-8\"/><g class=\"series serie-7 color-7\"/><g class=\"series serie-6 color-6\"/><g class=\"series serie-5 color-5\"/><g class=\"series serie-4 color-4\"/><g class=\"series serie-3 color-3\"/><g class=\"series serie-2 color-2\"/><g class=\"series serie-1 color-1\"/><g class=\"series serie-0 color-0\"/></g><g transform=\"translate(20, 46)\" class=\"plot tooltip-overlay\"><g transform=\"translate(0 0)\" style=\"opacity: 0\" class=\"tooltip\"><rect rx=\"0\" ry=\"0\" width=\"0\" height=\"0\" class=\"tooltip-box\"/><g class=\"text\"/></g></g><g transform=\"translate(30, 482)\" class=\"legends\"><g id=\"activate-serie-0\" class=\"legend reactive activate-serie\"><rect x=\"0.0\" y=\"1.0\" width=\"12\" height=\"12\" class=\"color-0 reactive\"/><text x=\"17.0\" y=\"11.2\">main</text></g><g id=\"activate-serie-1\" class=\"legend reactive activate-serie\"><rect x=\"380.0\" y=\"1.0\" width=\"12\" height=\"12\" class=\"color-1 reactive\"/><text x=\"397.0\" y=\"11.2\">initializeSubsystems</text></g><g id=\"activate-serie-2\" class=\"legend reactive activate-serie\"><rect x=\"0.0\" y=\"22.0\" width=\"12\" height=\"12\" class=\"color-2 reactive\"/><text x=\"17.0\" y=\"32.2\">initSubsystem</text></g><g id=\"activate-serie-3\" class=\"legend reactive activate-serie\"><rect x=\"380.0\" y=\"22.0\" width=\"12\" height=\"12\" class=\"color-3 reactive\"/><text x=\"397.0\" y=\"32.2\">init</text></g><g id=\"activate-serie-4\" class=\"legend reactive activate-serie\"><rect x=\"0.0\" y=\"43.0\" width=\"12\" height=\"12\" class=\"color-4 reactive\"/><text x=\"17.0\" y=\"53.2\">doLoad</text></g><g id=\"activate-serie-5\" class=\"legend reactive activate-serie\"><rect x=\"380.0\" y=\"43.0\" width=\"12\" height=\"12\" class=\"color-5 reactive\"/><text x=\"397.0\" y=\"53.2\">doInternal</text></g><g id=\"activate-serie-6\" class=\"legend reactive activate-serie\"><rect x=\"0.0\" y=\"64.0\" width=\"12\" height=\"12\" class=\"color-6 reactive\"/><text x=\"17.0\" y=\"74.2\">huntForModules</text></g><g id=\"activate-serie-7\" class=\"legend reactive activate-serie\"><rect x=\"380.0\" y=\"64.0\" width=\"12\" height=\"12\" class=\"color-7 reactive\"/><text x=\"397.0\" y=\"74.2\">huntForModulesFromExtensionDir</text></g><g id=\"activate-serie-8\" class=\"legend reactive activate-serie\"><rect x=\"0.0\" y=\"85.0\" width=\"12\" height=\"12\" class=\"color-8 reactive\"/><text x=\"17.0\" y=\"95.2\">huntModulesFromNamedDirectory</text></g><g id=\"activate-serie-9\" class=\"legend reactive activate-serie\"><rect x=\"380.0\" y=\"85.0\" width=\"12\" height=\"12\" class=\"color-9 reactive\"/><text x=\"397.0\" y=\"95.2\">processJarFile</text></g></g></g></svg>\n",
       "    </figure>\n",
       "  </body>\n",
       "</html>\n"
      ],
      "text/plain": [
       "<IPython.core.display.HTML object>"
      ]
     },
     "metadata": {},
     "output_type": "display_data"
    }
   ],
   "source": [
    "query=\"MATCH (t:Type)-[:DECLARES]->(m:Method) RETURN DISTINCT t.name as Type, m.name AS Method, m.duration AS Duration ORDER BY Duration DESC\"\n",
    "df = pd.DataFrame(graph.run(query).data())\n",
    "\n",
    "# Sortiere das Dataframe nach der Anzahl der Quelltextzeilen (loc).\n",
    "df = df.sort_values('Duration',ascending=False)\n",
    "# Extrahiere die Spalten loc, signature und type und speichere sie im Dataframe loc_df.\n",
    "loc_df = df[['Type','Method','Duration']][0:10]\n",
    "loc_df.head(10)\n",
    "\n",
    "bar_chart1 = pygal.HorizontalBar(show_legend=True, human_readable=True, fill=True, legend_at_bottom=True, legend_at_bottom_columns=2)\n",
    "bar_chart1.title = 'Duration Method'\n",
    "for index, row in loc_df.iterrows():\n",
    "    bar_chart1.add(row['Method'],[{\"value\": row['Duration'], \"label\": row['Type']}])\n",
    "display(HTML(base_html.format(rendered_chart=bar_chart1.render(is_unicode=True))))"
   ]
  },
  {
   "cell_type": "code",
   "execution_count": 10,
   "metadata": {},
   "outputs": [],
   "source": [
    "query=\"MATCH (t:Type)-[:DECLARES]->(m:Method) RETURN t.name as Type,m. name as Method, MAX(m.effectiveLineCount) AS lines, m.duration AS Durations, sum(m.cyclomaticComplexity) as complexity\"\n",
    "df = pd.DataFrame(graph.run(query).data())\n",
    "#df = df.groupby([\"Methode\",'Type','Signatur']).sum().astype(int).reset_index()\n",
    "df = df.groupby(['Type', 'Method']).first().reset_index()\n",
    "#dff = df.groupby(['Type','Methode']).Durations.sum().reset_index()\n",
    "df = df.dropna()\n",
    "df = df.sort_values('Durations',ascending=False)\n",
    "#print(df)\n"
   ]
  },
  {
   "cell_type": "code",
   "execution_count": 11,
   "metadata": {},
   "outputs": [
    {
     "data": {
      "text/html": [
       "<div>\n",
       "<style scoped>\n",
       "    .dataframe tbody tr th:only-of-type {\n",
       "        vertical-align: middle;\n",
       "    }\n",
       "\n",
       "    .dataframe tbody tr th {\n",
       "        vertical-align: top;\n",
       "    }\n",
       "\n",
       "    .dataframe thead th {\n",
       "        text-align: right;\n",
       "    }\n",
       "</style>\n",
       "<table border=\"1\" class=\"dataframe\">\n",
       "  <thead>\n",
       "    <tr style=\"text-align: right;\">\n",
       "      <th></th>\n",
       "      <th>Type</th>\n",
       "      <th>Method</th>\n",
       "      <th>lines</th>\n",
       "      <th>Durations</th>\n",
       "      <th>complexity</th>\n",
       "    </tr>\n",
       "  </thead>\n",
       "  <tbody>\n",
       "    <tr>\n",
       "      <td>47042</td>\n",
       "      <td>Main</td>\n",
       "      <td>main</td>\n",
       "      <td>68.0</td>\n",
       "      <td>1.162054e+11</td>\n",
       "      <td>0</td>\n",
       "    </tr>\n",
       "    <tr>\n",
       "      <td>47041</td>\n",
       "      <td>Main</td>\n",
       "      <td>initializeSubsystems</td>\n",
       "      <td>27.0</td>\n",
       "      <td>1.084108e+11</td>\n",
       "      <td>0</td>\n",
       "    </tr>\n",
       "    <tr>\n",
       "      <td>69294</td>\n",
       "      <td>SubsystemUtility</td>\n",
       "      <td>initSubsystem</td>\n",
       "      <td>11.0</td>\n",
       "      <td>7.328820e+10</td>\n",
       "      <td>0</td>\n",
       "    </tr>\n",
       "    <tr>\n",
       "      <td>40903</td>\n",
       "      <td>InitModuleLoader</td>\n",
       "      <td>init</td>\n",
       "      <td>3.0</td>\n",
       "      <td>6.674670e+10</td>\n",
       "      <td>1</td>\n",
       "    </tr>\n",
       "    <tr>\n",
       "      <td>49849</td>\n",
       "      <td>ModuleLoader2</td>\n",
       "      <td>doLoad</td>\n",
       "      <td>2.0</td>\n",
       "      <td>6.674640e+10</td>\n",
       "      <td>0</td>\n",
       "    </tr>\n",
       "  </tbody>\n",
       "</table>\n",
       "</div>"
      ],
      "text/plain": [
       "                   Type                Method  lines     Durations  complexity\n",
       "47042              Main                  main   68.0  1.162054e+11           0\n",
       "47041              Main  initializeSubsystems   27.0  1.084108e+11           0\n",
       "69294  SubsystemUtility         initSubsystem   11.0  7.328820e+10           0\n",
       "40903  InitModuleLoader                  init    3.0  6.674670e+10           1\n",
       "49849     ModuleLoader2                doLoad    2.0  6.674640e+10           0"
      ]
     },
     "execution_count": 11,
     "metadata": {},
     "output_type": "execute_result"
    }
   ],
   "source": [
    "df.head()"
   ]
  },
  {
   "cell_type": "code",
   "execution_count": 12,
   "metadata": {},
   "outputs": [
    {
     "data": {
      "text/html": [
       "<div>\n",
       "<style scoped>\n",
       "    .dataframe tbody tr th:only-of-type {\n",
       "        vertical-align: middle;\n",
       "    }\n",
       "\n",
       "    .dataframe tbody tr th {\n",
       "        vertical-align: top;\n",
       "    }\n",
       "\n",
       "    .dataframe thead th {\n",
       "        text-align: right;\n",
       "    }\n",
       "</style>\n",
       "<table border=\"1\" class=\"dataframe\">\n",
       "  <thead>\n",
       "    <tr style=\"text-align: right;\">\n",
       "      <th></th>\n",
       "      <th>class.name</th>\n",
       "      <th>Methods</th>\n",
       "      <th>lines</th>\n",
       "    </tr>\n",
       "  </thead>\n",
       "  <tbody>\n",
       "    <tr>\n",
       "      <td>0</td>\n",
       "      <td>UMLPackageImpl</td>\n",
       "      <td>1517</td>\n",
       "      <td>2833</td>\n",
       "    </tr>\n",
       "    <tr>\n",
       "      <td>1</td>\n",
       "      <td>UMLValidator</td>\n",
       "      <td>698</td>\n",
       "      <td>14793</td>\n",
       "    </tr>\n",
       "    <tr>\n",
       "      <td>2</td>\n",
       "      <td>ActionLexer</td>\n",
       "      <td>646</td>\n",
       "      <td>8198</td>\n",
       "    </tr>\n",
       "    <tr>\n",
       "      <td>3</td>\n",
       "      <td>UMLAdapterFactory$1</td>\n",
       "      <td>499</td>\n",
       "      <td>500</td>\n",
       "    </tr>\n",
       "    <tr>\n",
       "      <td>4</td>\n",
       "      <td>FacadeEUMLImpl</td>\n",
       "      <td>427</td>\n",
       "      <td>1044</td>\n",
       "    </tr>\n",
       "  </tbody>\n",
       "</table>\n",
       "</div>"
      ],
      "text/plain": [
       "            class.name  Methods  lines\n",
       "0       UMLPackageImpl     1517   2833\n",
       "1         UMLValidator      698  14793\n",
       "2          ActionLexer      646   8198\n",
       "3  UMLAdapterFactory$1      499    500\n",
       "4       FacadeEUMLImpl      427   1044"
      ]
     },
     "execution_count": 12,
     "metadata": {},
     "output_type": "execute_result"
    }
   ],
   "source": [
    "query=\"MATCH (class:Type:Class)-[:DECLARES]->(method:Method) RETURN class.name, count(method) AS Methods, sum(method.effectiveLineCount) AS lines ORDER BY Methods DESC\"\n",
    "df = pd.DataFrame(graph.run(query).data())\n",
    "df.head()"
   ]
  },
  {
   "cell_type": "code",
   "execution_count": 198,
   "metadata": {},
   "outputs": [
    {
     "data": {
      "text/html": [
       "<div>\n",
       "<style scoped>\n",
       "    .dataframe tbody tr th:only-of-type {\n",
       "        vertical-align: middle;\n",
       "    }\n",
       "\n",
       "    .dataframe tbody tr th {\n",
       "        vertical-align: top;\n",
       "    }\n",
       "\n",
       "    .dataframe thead th {\n",
       "        text-align: right;\n",
       "    }\n",
       "</style>\n",
       "<table border=\"1\" class=\"dataframe\">\n",
       "  <thead>\n",
       "    <tr style=\"text-align: right;\">\n",
       "      <th></th>\n",
       "      <th>loc</th>\n",
       "    </tr>\n",
       "  </thead>\n",
       "  <tbody>\n",
       "    <tr>\n",
       "      <td>0</td>\n",
       "      <td>0</td>\n",
       "    </tr>\n",
       "  </tbody>\n",
       "</table>\n",
       "</div>"
      ],
      "text/plain": [
       "   loc\n",
       "0    0"
      ]
     },
     "execution_count": 198,
     "metadata": {},
     "output_type": "execute_result"
    }
   ],
   "source": []
  },
  {
   "cell_type": "code",
   "execution_count": null,
   "metadata": {},
   "outputs": [],
   "source": []
  }
 ],
 "metadata": {
  "kernelspec": {
   "display_name": "Python 3",
   "language": "python",
   "name": "python3"
  },
  "language_info": {
   "codemirror_mode": {
    "name": "ipython",
    "version": 3
   },
   "file_extension": ".py",
   "mimetype": "text/x-python",
   "name": "python",
   "nbconvert_exporter": "python",
   "pygments_lexer": "ipython3",
   "version": "3.7.4"
  }
 },
 "nbformat": 4,
 "nbformat_minor": 2
}
