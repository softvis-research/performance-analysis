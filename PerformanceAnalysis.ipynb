{
 "cells": [
  {
   "cell_type": "code",
   "execution_count": 16,
   "metadata": {
    "scrolled": true
   },
   "outputs": [],
   "source": [
    "import py2neo\n",
    "\n",
    "graph = py2neo.Graph(host='localhost', user='', password='')"
   ]
  },
  {
   "cell_type": "code",
   "execution_count": 29,
   "metadata": {},
   "outputs": [],
   "source": [
    "import pandas as pd\n",
    "\n",
    "#query =\"MATCH (t:Type:File) RETURN count(t)\"\n",
    "query =\"MATCH (c1:Class)-[:EXTENDS]->(c2:Type) RETURN c1.fqn, c2.fqn LIMIT 20\"\n",
    "#query = \"MATCH (t:Type)-[:DECLARES]->(m:Method) WHERE t.fqn STARTS WITH 'kieker' RETURN t.name as Type RETURN t.name as Type, m.name AS Method, m.incomingCalls AS Calls, m.duration AS Duration\"\n",
    "df = pd.DataFrame(graph.run(query).data())"
   ]
  },
  {
   "cell_type": "code",
   "execution_count": 30,
   "metadata": {},
   "outputs": [
    {
     "data": {
      "text/html": [
       "<div>\n",
       "<style scoped>\n",
       "    .dataframe tbody tr th:only-of-type {\n",
       "        vertical-align: middle;\n",
       "    }\n",
       "\n",
       "    .dataframe tbody tr th {\n",
       "        vertical-align: top;\n",
       "    }\n",
       "\n",
       "    .dataframe thead th {\n",
       "        text-align: right;\n",
       "    }\n",
       "</style>\n",
       "<table border=\"1\" class=\"dataframe\">\n",
       "  <thead>\n",
       "    <tr style=\"text-align: right;\">\n",
       "      <th></th>\n",
       "      <th>c1.fqn</th>\n",
       "      <th>c2.fqn</th>\n",
       "    </tr>\n",
       "  </thead>\n",
       "  <tbody>\n",
       "    <tr>\n",
       "      <td>0</td>\n",
       "      <td>org.argouml.application.ArgoVersion</td>\n",
       "      <td>java.lang.Object</td>\n",
       "    </tr>\n",
       "    <tr>\n",
       "      <td>1</td>\n",
       "      <td>org.argouml.application.helpers.ApplicationVer...</td>\n",
       "      <td>java.lang.Object</td>\n",
       "    </tr>\n",
       "    <tr>\n",
       "      <td>2</td>\n",
       "      <td>org.argouml.application.LoadModules</td>\n",
       "      <td>java.lang.Object</td>\n",
       "    </tr>\n",
       "    <tr>\n",
       "      <td>3</td>\n",
       "      <td>org.argouml.moduleloader.ModuleLoader2</td>\n",
       "      <td>java.lang.Object</td>\n",
       "    </tr>\n",
       "    <tr>\n",
       "      <td>4</td>\n",
       "      <td>org.argouml.application.Main$1</td>\n",
       "      <td>org.argouml.cognitive.AbstractCognitiveTranslator</td>\n",
       "    </tr>\n",
       "  </tbody>\n",
       "</table>\n",
       "</div>"
      ],
      "text/plain": [
       "                                              c1.fqn  \\\n",
       "0                org.argouml.application.ArgoVersion   \n",
       "1  org.argouml.application.helpers.ApplicationVer...   \n",
       "2                org.argouml.application.LoadModules   \n",
       "3             org.argouml.moduleloader.ModuleLoader2   \n",
       "4                     org.argouml.application.Main$1   \n",
       "\n",
       "                                              c2.fqn  \n",
       "0                                   java.lang.Object  \n",
       "1                                   java.lang.Object  \n",
       "2                                   java.lang.Object  \n",
       "3                                   java.lang.Object  \n",
       "4  org.argouml.cognitive.AbstractCognitiveTranslator  "
      ]
     },
     "execution_count": 30,
     "metadata": {},
     "output_type": "execute_result"
    }
   ],
   "source": [
    "df.head()"
   ]
  },
  {
   "cell_type": "code",
   "execution_count": null,
   "metadata": {},
   "outputs": [],
   "source": []
  }
 ],
 "metadata": {
  "kernelspec": {
   "display_name": "Python 3",
   "language": "python",
   "name": "python3"
  },
  "language_info": {
   "codemirror_mode": {
    "name": "ipython",
    "version": 3
   },
   "file_extension": ".py",
   "mimetype": "text/x-python",
   "name": "python",
   "nbconvert_exporter": "python",
   "pygments_lexer": "ipython3",
   "version": "3.7.4"
  }
 },
 "nbformat": 4,
 "nbformat_minor": 2
}
